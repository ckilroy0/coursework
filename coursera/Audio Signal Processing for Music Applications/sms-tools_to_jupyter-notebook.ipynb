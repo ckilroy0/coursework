{
 "cells": [
  {
   "cell_type": "markdown",
   "id": "b04aa038",
   "metadata": {},
   "source": [
    "**Problem:** This course uses the sms-tools package from https://github.com/MTG/sms-tools. The sms-tools library has a PyPi install at https://pypi.org/project/sms-tools/. However, the library demonstrations are shown running the tools from within the sms-tools directory via terminal window. This functionality is insufficient for experimentation within Jupyter notebooks. A solution is therefore necessary for importing the program library into Jupyter."
   ]
  },
  {
   "cell_type": "markdown",
   "id": "e2aefa96",
   "metadata": {},
   "source": [
    "The notebook, E1-Python-and-sounds.ipynb, provides the following code"
   ]
  },
  {
   "cell_type": "code",
   "execution_count": null,
   "id": "3d18e118",
   "metadata": {},
   "outputs": [],
   "source": [
    "import sys\n",
    "import os\n",
    "# to use this notebook with colab uncomment the next line\n",
    "#!git clone https://github.com/MTG/sms-tools.git\n",
    "# and change the next line to sys.path.append('sms-tools/software/models/')\n",
    "#sys.path.append('../software/models/')\n",
    "sys.path.append('sms-tools/software/models/')\n",
    "from utilFunctions import wavread, wavwrite"
   ]
  },
  {
   "cell_type": "markdown",
   "id": "cb5da130",
   "metadata": {},
   "source": [
    "The function _sys.path.append_ adds the _models_ folder to the python system path. The _utilFunctions_ file is contained in the _models_ folder as _utilFunctions.py_. \n",
    "\n",
    "\n",
    "\n"
   ]
  },
  {
   "cell_type": "code",
   "execution_count": 19,
   "id": "eb703a7d",
   "metadata": {
    "ExecuteTime": {
     "end_time": "2023-07-12T22:52:02.247000Z",
     "start_time": "2023-07-12T22:52:02.208000Z"
    }
   },
   "outputs": [],
   "source": [
    "import sys\n",
    "sys.path.append('sms-tools/software/models/')\n",
    "from models import utilFunctions\n",
    "#from utilFunctions import wavread\n",
    "utilFunctions.wavread(filename)"
   ]
  },
  {
   "cell_type": "markdown",
   "id": "f1eee275",
   "metadata": {},
   "source": [
    "The _software_ folder contains four folders: _models_, _models\\_interface_, _transformations_, _transformations\\_interface_. \n",
    "\n",
    "The following files are contained in the _models_ folder:\n",
    "\n",
    "_**models**_\n",
    "\\begin{itemize}\n",
    "    \\item dftModel\n",
    "    \\item harmonicModel\n",
    "    \\item hprModel\n",
    "    \\item hpsModel\n",
    "    \\item sineModel\n",
    "    \\item sprModel\n",
    "    \\item spsModel\n",
    "    \\item stft\n",
    "    \\item stochasticModel\n",
    "\\end{itemize}\n",
    "\n",
    "The following files are contained in the _transformations_ folder:\n",
    "\n",
    "_**transformations**_\n",
    "\\begin{itemize}\n",
    "    \\item harmonicTransformations\n",
    "    \\item hpsTransformations\n",
    "    \\item sineTransformations\n",
    "    \\item stftTransformations\n",
    "    \\item stochasticTransformations\n",
    "\\end{itemize}"
   ]
  },
  {
   "cell_type": "markdown",
   "id": "384c8c73",
   "metadata": {},
   "source": [
    "I will attempt to access _transformations_"
   ]
  },
  {
   "cell_type": "code",
   "execution_count": null,
   "id": "97aad737",
   "metadata": {},
   "outputs": [],
   "source": [
    "# This runs harmonicFreqScaling\n",
    "from transformations import harmonicTransformations\n",
    "harmonicTransformations.harmonicFreqScaling(\n",
    "    hfreq,\n",
    "    hmag,\n",
    "    freqScaling,\n",
    "    freqStretching,\n",
    "    timbrePreservation,\n",
    "    fs,\n",
    ")"
   ]
  },
  {
   "cell_type": "code",
   "execution_count": 22,
   "id": "cdbd8da7",
   "metadata": {
    "ExecuteTime": {
     "end_time": "2023-07-12T22:58:33.284000Z",
     "start_time": "2023-07-12T22:58:33.266000Z"
    }
   },
   "outputs": [
    {
     "ename": "SyntaxError",
     "evalue": "invalid syntax (<ipython-input-22-991383bb2f48>, line 1)",
     "output_type": "error",
     "traceback": [
      "\u001b[1;36m  File \u001b[1;32m\"<ipython-input-22-991383bb2f48>\"\u001b[1;36m, line \u001b[1;32m1\u001b[0m\n\u001b[1;33m    import sms-tools\u001b[0m\n\u001b[1;37m              ^\u001b[0m\n\u001b[1;31mSyntaxError\u001b[0m\u001b[1;31m:\u001b[0m invalid syntax\n"
     ]
    }
   ],
   "source": [
    "# This does not work\n",
    "import sms-tools"
   ]
  },
  {
   "cell_type": "code",
   "execution_count": 24,
   "id": "74aa53e9",
   "metadata": {
    "ExecuteTime": {
     "end_time": "2023-07-12T23:05:13.665000Z",
     "start_time": "2023-07-12T23:05:13.649000Z"
    }
   },
   "outputs": [
    {
     "ename": "SyntaxError",
     "evalue": "invalid syntax (<ipython-input-24-48e20dba0278>, line 2)",
     "output_type": "error",
     "traceback": [
      "\u001b[1;36m  File \u001b[1;32m\"<ipython-input-24-48e20dba0278>\"\u001b[1;36m, line \u001b[1;32m2\u001b[0m\n\u001b[1;33m    from sms-tools/software/transformations/ import harmonicTransformations\u001b[0m\n\u001b[1;37m            ^\u001b[0m\n\u001b[1;31mSyntaxError\u001b[0m\u001b[1;31m:\u001b[0m invalid syntax\n"
     ]
    }
   ],
   "source": [
    "# This also does not work\n",
    "from sms-tools/software/transformations/ import harmonicTransformations"
   ]
  },
  {
   "cell_type": "code",
   "execution_count": 32,
   "id": "5ada883e",
   "metadata": {
    "ExecuteTime": {
     "end_time": "2023-07-12T23:08:33.397000Z",
     "start_time": "2023-07-12T23:08:33.358000Z"
    }
   },
   "outputs": [
    {
     "ename": "ModuleNotFoundError",
     "evalue": "No module named 'software'",
     "output_type": "error",
     "traceback": [
      "\u001b[1;31m---------------------------------------------------------------------------\u001b[0m",
      "\u001b[1;31mModuleNotFoundError\u001b[0m                       Traceback (most recent call last)",
      "\u001b[1;32m<ipython-input-32-7fca550aed58>\u001b[0m in \u001b[0;36m<module>\u001b[1;34m\u001b[0m\n\u001b[0;32m      1\u001b[0m \u001b[1;31m# This also does not work\u001b[0m\u001b[1;33m\u001b[0m\u001b[1;33m\u001b[0m\u001b[1;33m\u001b[0m\u001b[0m\n\u001b[1;32m----> 2\u001b[1;33m \u001b[1;32mfrom\u001b[0m \u001b[0msoftware\u001b[0m\u001b[1;33m.\u001b[0m\u001b[0mtransformations\u001b[0m\u001b[1;33m.\u001b[0m\u001b[0mharmonicTransformations\u001b[0m \u001b[1;32mimport\u001b[0m \u001b[0mharmonicModel\u001b[0m\u001b[1;33m\u001b[0m\u001b[1;33m\u001b[0m\u001b[0m\n\u001b[0m",
      "\u001b[1;31mModuleNotFoundError\u001b[0m: No module named 'software'"
     ]
    }
   ],
   "source": [
    "# This also does not work\n",
    "from software.transformations.harmonicTransformations import harmonicModel"
   ]
  },
  {
   "cell_type": "markdown",
   "id": "fac2be28",
   "metadata": {},
   "source": [
    "**Conclusion:** Make sure that the necessary folders are installed, then use _sys.path.append_ and import the required functions."
   ]
  },
  {
   "cell_type": "code",
   "execution_count": 19,
   "id": "07affe15",
   "metadata": {
    "ExecuteTime": {
     "end_time": "2023-07-12T22:52:02.247000Z",
     "start_time": "2023-07-12T22:52:02.208000Z"
    }
   },
   "outputs": [],
   "source": [
    "# Import utilFunctions from models and run wavread\n",
    "import sys\n",
    "sys.path.append('sms-tools/software/models/')\n",
    "from models import utilFunctions\n",
    "utilFunctions.wavread(filename)"
   ]
  },
  {
   "cell_type": "code",
   "execution_count": null,
   "id": "ef2d3d77",
   "metadata": {},
   "outputs": [],
   "source": [
    "# Import utilFunctions from transformations and run harmonicFreqScaling\n",
    "import sys\n",
    "sys.path.append('sms-tools/software/transformations/')\n",
    "from transformations import harmonicTransformations\n",
    "harmonicTransformations.harmonicFreqScaling(\n",
    "    hfreq,\n",
    "    hmag,\n",
    "    freqScaling,\n",
    "    freqStretching,\n",
    "    timbrePreservation,\n",
    "    fs,\n",
    ")"
   ]
  },
  {
   "cell_type": "markdown",
   "id": "e9320829",
   "metadata": {},
   "source": [
    "**Remark:** A directory can be added to the system path by appending it to your \"PATH\" or \"PYTHONPATH\" in system environment variables (Windows via the control panel). https://stackoverflow.com/questions/7472436/add-a-directory-to-python-sys-path-so-that-its-included-each-time-i-use-python\n",
    "\n",
    "*I have not attempted this approach. -12 July 2023*"
   ]
  },
  {
   "cell_type": "code",
   "execution_count": null,
   "id": "1bdaafe6",
   "metadata": {},
   "outputs": [],
   "source": []
  }
 ],
 "metadata": {
  "kernelspec": {
   "display_name": "Python 3",
   "language": "python",
   "name": "python3"
  },
  "language_info": {
   "codemirror_mode": {
    "name": "ipython",
    "version": 3
   },
   "file_extension": ".py",
   "mimetype": "text/x-python",
   "name": "python",
   "nbconvert_exporter": "python",
   "pygments_lexer": "ipython3",
   "version": "3.8.8"
  },
  "latex_envs": {
   "LaTeX_envs_menu_present": true,
   "autoclose": false,
   "autocomplete": true,
   "bibliofile": "biblio.bib",
   "cite_by": "apalike",
   "current_citInitial": 1,
   "eqLabelWithNumbers": true,
   "eqNumInitial": 1,
   "hotkeys": {
    "equation": "Ctrl-E",
    "itemize": "Ctrl-I"
   },
   "labels_anchors": false,
   "latex_user_defs": false,
   "report_style_numbering": false,
   "user_envs_cfg": false
  },
  "toc": {
   "base_numbering": 1,
   "nav_menu": {},
   "number_sections": true,
   "sideBar": true,
   "skip_h1_title": true,
   "title_cell": "Table of Contents",
   "title_sidebar": "Contents",
   "toc_cell": false,
   "toc_position": {},
   "toc_section_display": true,
   "toc_window_display": false
  },
  "varInspector": {
   "cols": {
    "lenName": 16,
    "lenType": 16,
    "lenVar": 40
   },
   "kernels_config": {
    "python": {
     "delete_cmd_postfix": "",
     "delete_cmd_prefix": "del ",
     "library": "var_list.py",
     "varRefreshCmd": "print(var_dic_list())"
    },
    "r": {
     "delete_cmd_postfix": ") ",
     "delete_cmd_prefix": "rm(",
     "library": "var_list.r",
     "varRefreshCmd": "cat(var_dic_list()) "
    }
   },
   "types_to_exclude": [
    "module",
    "function",
    "builtin_function_or_method",
    "instance",
    "_Feature"
   ],
   "window_display": false
  }
 },
 "nbformat": 4,
 "nbformat_minor": 5
}

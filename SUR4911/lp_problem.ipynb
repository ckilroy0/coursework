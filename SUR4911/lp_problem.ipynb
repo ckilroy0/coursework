{
 "cells": [
  {
   "cell_type": "code",
   "execution_count": null,
   "id": "46602fe4",
   "metadata": {},
   "outputs": [],
   "source": [
    "import pulp\n",
    "\n",
    "def partition_distributions(distributions):\n",
    "\n",
    "    # Create a PuLP linear programming problem\n",
    "    lp_problem = pulp.LpProblem(\"Distribution_Partitioning\", pulp.LpMinimize)\n",
    "    \n",
    "    # Create binary variables to represent group assignments (1 or 0)\n",
    "    group_vars = [pulp.LpVariable(f'Group_{i}', cat=pulp.LpBinary) for i in range(len(distributions))]\n",
    "    \n",
    "    # Create auxiliary binary variables to capture product of group assignments\n",
    "    product_vars = [\n",
    "        pulp.LpVariable(f'Product_{i}_{j}', cat=pulp.LpBinary)\n",
    "        for i in range(len(distributions))\n",
    "        for j in range(len(distributions))\n",
    "    ]\n",
    "\n",
    "    # Define the objective function based on the sum of absolute differences\n",
    "    for i in range(len(distributions)):\n",
    "        for j in range(len(distributions)):\n",
    "            objective = product_vars[i * len(distributions) + j]  * sum(abs(distributions[i] - distributions[j]))\n",
    "            lp_problem.objective += objective\n",
    "        \n",
    "    # Add constraints to partition the distributions into two groups\n",
    "    for i in range(len(distributions)):\n",
    "        for j in range(len(distributions)):\n",
    "            # Ensure that each distribution belongs to one and only one group\n",
    "            lp_problem += product_vars[i * len(distributions) + j] == product_vars[j * len(distributions) + i]\n",
    "            #lp_problem += group_vars[i] == product_vars[i * len(distributions) + j]\n",
    "            lp_problem += group_vars[7] == 1   # only for 2017greenlandslide\n",
    "        \n",
    "    # Solve the linear programming problem\n",
    "    lp_problem.solve()\n",
    "\n",
    "    # Extract the optimal coefficients (group assignments)\n",
    "    coefficients = [pulp.value(group_var) for group_var in group_vars]\n",
    "    \n",
    "    return coefficients\n",
    "\n",
    "partition_distributions(distributions)\n",
    "print(\"Optimal Coefficients (Group Assignments):\", coefficients)\n"
   ]
  }
 ],
 "metadata": {
  "kernelspec": {
   "display_name": "Python 3",
   "language": "python",
   "name": "python3"
  },
  "language_info": {
   "codemirror_mode": {
    "name": "ipython",
    "version": 3
   },
   "file_extension": ".py",
   "mimetype": "text/x-python",
   "name": "python",
   "nbconvert_exporter": "python",
   "pygments_lexer": "ipython3",
   "version": "3.8.8"
  },
  "latex_envs": {
   "LaTeX_envs_menu_present": true,
   "autoclose": false,
   "autocomplete": true,
   "bibliofile": "biblio.bib",
   "cite_by": "apalike",
   "current_citInitial": 1,
   "eqLabelWithNumbers": true,
   "eqNumInitial": 1,
   "hotkeys": {
    "equation": "Ctrl-E",
    "itemize": "Ctrl-I"
   },
   "labels_anchors": false,
   "latex_user_defs": false,
   "report_style_numbering": false,
   "user_envs_cfg": false
  },
  "toc": {
   "base_numbering": 1,
   "nav_menu": {},
   "number_sections": true,
   "sideBar": true,
   "skip_h1_title": true,
   "title_cell": "Table of Contents",
   "title_sidebar": "Contents",
   "toc_cell": false,
   "toc_position": {},
   "toc_section_display": true,
   "toc_window_display": false
  },
  "varInspector": {
   "cols": {
    "lenName": 16,
    "lenType": 16,
    "lenVar": 40
   },
   "kernels_config": {
    "python": {
     "delete_cmd_postfix": "",
     "delete_cmd_prefix": "del ",
     "library": "var_list.py",
     "varRefreshCmd": "print(var_dic_list())"
    },
    "r": {
     "delete_cmd_postfix": ") ",
     "delete_cmd_prefix": "rm(",
     "library": "var_list.r",
     "varRefreshCmd": "cat(var_dic_list()) "
    }
   },
   "types_to_exclude": [
    "module",
    "function",
    "builtin_function_or_method",
    "instance",
    "_Feature"
   ],
   "window_display": false
  }
 },
 "nbformat": 4,
 "nbformat_minor": 5
}

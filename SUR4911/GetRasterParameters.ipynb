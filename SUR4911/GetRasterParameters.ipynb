{
 "cells": [
  {
   "cell_type": "code",
   "execution_count": 11,
   "id": "02ef9743",
   "metadata": {
    "ExecuteTime": {
     "end_time": "2023-11-21T01:59:02.317518Z",
     "start_time": "2023-11-21T01:59:02.280518Z"
    }
   },
   "outputs": [
    {
     "ename": "ModuleNotFoundError",
     "evalue": "No module named 'arcpy'",
     "output_type": "error",
     "traceback": [
      "\u001b[1;31m---------------------------------------------------------------------------\u001b[0m",
      "\u001b[1;31mModuleNotFoundError\u001b[0m                       Traceback (most recent call last)",
      "\u001b[1;32m<ipython-input-11-e325321d760e>\u001b[0m in \u001b[0;36m<module>\u001b[1;34m\u001b[0m\n\u001b[0;32m      1\u001b[0m \u001b[1;32mimport\u001b[0m \u001b[0mos\u001b[0m\u001b[1;33m\u001b[0m\u001b[1;33m\u001b[0m\u001b[0m\n\u001b[1;32m----> 2\u001b[1;33m \u001b[1;32mimport\u001b[0m \u001b[0marcpy\u001b[0m\u001b[1;33m\u001b[0m\u001b[1;33m\u001b[0m\u001b[0m\n\u001b[0m\u001b[0;32m      3\u001b[0m \u001b[1;32mfrom\u001b[0m \u001b[0mtime\u001b[0m \u001b[1;32mimport\u001b[0m \u001b[0mperf_counter\u001b[0m\u001b[1;33m\u001b[0m\u001b[1;33m\u001b[0m\u001b[0m\n\u001b[0;32m      4\u001b[0m \u001b[1;32mfrom\u001b[0m \u001b[0mdatetime\u001b[0m \u001b[1;32mimport\u001b[0m \u001b[0mdatetime\u001b[0m\u001b[1;33m\u001b[0m\u001b[1;33m\u001b[0m\u001b[0m\n\u001b[0;32m      5\u001b[0m \u001b[1;33m\u001b[0m\u001b[0m\n",
      "\u001b[1;31mModuleNotFoundError\u001b[0m: No module named 'arcpy'"
     ]
    }
   ],
   "source": [
    "import os\n",
    "import arcpy\n",
    "from time import perf_counter\n",
    "from datetime import datetime \n",
    "\n",
    "# Paths\n",
    "output_folder = r\"E:\\ArcticDEM\\session3\\clip_out\"  # Path to store clipped and mosaic rasters. CHANGE TO YOURS\n",
    "temporary_folder = os.path.join(output_folder, \"temp\")  # Temporary location for downloaded and extracted files. CHANGE TO YOURS\n",
    "0in_layer_or_view = \"landslide_Bffr128_2m_Dissolve\"   # Clipping features CHANGE THIS TO THE UNBUFFERED POLYGONS\n",
    "\n",
    "# Model Environment settings. \n",
    "scratchWorkspace = r\"E:\\ArcticDEM\\session3\\session3.gdb\" # CHANGE TO YOURS. NEEDS TO CONTAIN: in_layer_or_view = \"landslide_Bffr128_2m_Dissolve\"\n",
    "workspace = scratchWorkspace\n",
    "aprx = arcpy.mp.ArcGISProject(\"CURRENT\")   # I have only tested this script in the Python window for an existing map file in ArcGIS Pro\n",
    "mp = aprx.activeMap\n",
    "\n",
    "# List of polygons\n",
    "polylist = [0,1,2,3,4,5,6,7,8,9,10,11,12,13,14,15,16,17,18,19,20,21,22,23,24,25,26,27,28,29,30,31,32,34,35,36,37,38,39,40,41,42,44,46,47,48,49,50,51,52,53,54,55,56,57,58,59,60,61,62,63,64,65,66,67,68,69,70,72,74,75,77,78,79,80,81,82,83,84,85,86,87,88,89,90,91,92,93,94,95,96,97,98,99,100,101,102,103,104,105,106,107,108,109,110,111,112,113,114,115,116,117,118,120,121,122,123,125,126,127,128,129,130,131,132,133,134,135,136,137,138,139,140,141,142,143,144,145,146,147,148,149,150,151,152,154,155,156,157,158,159,160,161,162,163,165,166,167,168,169,170,171,172,173,174,175,176,177,178,179,180,181,182,183,184,186,187,188,189,190,191,192,193,194,195,196,197,198,199,200,201,202,203,204,205,206,207,208,209,210,211,212,213,214,215,216,217,218,219,220,221,222,223,224,225,226,227,228,229,230,231,232,233,234,235,236,237,238,239,240,241,242,243,244,245,246,247,248,249,250,251,252,253,254,255,256,257,258,259,260,261,262,263,264,265,267,268,269,270,271,273,275,276,277,278,279,280,281,282,283,284,285,286,287,288,293,294,295,296,298,300,302,303,305]\n",
    "\n",
    "\n",
    "### Create output folders for each polygon ID in polylist\n",
    "        \n",
    "### Clip tile for each polygon ID associated with tile\n",
    "def clip_raster(out_raster, poly, output_path, parameter):\n",
    "    # Associated variables\n",
    "    Expression = f\"Origin_FID = {poly}\"\n",
    "    filename = parameter + f'_{poly}.tif'\n",
    "    out_raster_filename = os.path.join(output_path, filename)\n",
    "\n",
    "    # Process: Select Layer By Attribute (Select Layer By Attribute) (management)\n",
    "    layer_selection, Count = arcpy.management.SelectLayerByAttribute(in_layer_or_view, selection_type=\"NEW_SELECTION\", where_clause=Expression, invert_where_clause=\"\")\n",
    "\n",
    "    # Process: Clip Raster (Clip Raster) (management)\n",
    "    arcpy.management.Clip(in_raster, \"#\", out_raster_filename, in_template_dataset=layer_selection, nodata_value=\"3.4e+38\", clipping_geometry=\"ClippingGeometry\", maintain_clipping_extent=\"NO_MAINTAIN_EXTENT\")\n",
    "    \n",
    "    # Remove layer from map\n",
    "    # https://community.esri.com/t5/arcgis-pro-questions/remove-and-edit-layers-from-mapframe/m-p/1272812#M67313\n",
    "    ly_ls = [i for i in mp.listLayers()]\n",
    "    for c, n in enumerate(ly_ls):\n",
    "        if n.name==f\"{filename}.tif\":\n",
    "            layer2remove = ly_ls[c]\n",
    "    if layer2remove in ly_ls:\n",
    "        mp.removeLayer(layer2remove)\n",
    "    else:\n",
    "        print('Layer not in the map!')\n",
    "        \n",
    "    return out_raster_filename\n",
    "        \n",
    "\n",
    "# Change directory to temp\n",
    "os.chdir(temporary_folder)\n",
    "                \n",
    "\n",
    "for poly in polylist:\n",
    "    poly_folder = os.path.join(output_folder, f'{poly}')   # Polygon folder\n",
    "    mosaicFile = os.path.join(poly_folder, f'clipM_{poly}.tif')   # Mosaic file\n",
    "    \n",
    "    ### Create parameters folder for each polygon\n",
    "    parameters_folder = os.path.join(poly_folder, 'parameters')   # This will be the output folder\n",
    "    if not os.path.exists(parameters_folder):\n",
    "        os.makedirs(parameters_folder)\n",
    "    \n",
    "    # Set input raster as mosaic file if it exists\n",
    "    # Otherwise, there is only one tiff so set that as in_raster\n",
    "    in_raster = mosaicFile \n",
    "    if not os.path.exists(mosaicFile):\n",
    "        in_raster = [file for file in os.listdir(poly_folder) if file.endswith('tif')][0]\n",
    "          \n",
    "\n",
    "         \n",
    "\n",
    "   \n",
    "    with arcpy.EnvManager(scratchWorkspace=scratchWorkspace, workspace=workspace):\n",
    "        arcpy.env.overwriteOutput = True    # Allow overwriting outputs \n",
    "\n",
    "        ### Calculate parameters\n",
    "        slope_raster = Slope(in_raster, {output_measurement}, {z_factor}, {method}, {z_unit}, {analysis_target_device})   \n",
    "        \n",
    "        ### Clip tile using polygons\n",
    "        clipped_slope_raster = clip_raster(slope_raster, poly, parameters_folder, \"Slope\")\n",
    "        \n",
    "        ### Convert clipped raster to points\n",
    "        arcpy.conversion.RasterToPoint(clipped_slope_raster, os.path.join(parameters_folder, f'Slope_{poly}.shp'), \"VALUE\")\n",
    "\n"
   ]
  },
  {
   "cell_type": "code",
   "execution_count": 2,
   "id": "29698c93",
   "metadata": {
    "ExecuteTime": {
     "end_time": "2023-11-21T01:46:36.303518Z",
     "start_time": "2023-11-21T01:46:36.283518Z"
    }
   },
   "outputs": [
    {
     "data": {
      "text/plain": [
       "'E:\\\\ArcticDEM\\\\session3\\\\clip_out\\\\77\\\\parameters'"
      ]
     },
     "execution_count": 2,
     "metadata": {},
     "output_type": "execute_result"
    }
   ],
   "source": [
    "import os\n",
    "poly = 77\n",
    "output_folder = r\"E:\\ArcticDEM\\session3\\clip_out\" \n",
    "os.path.join(output_folder, f'{poly}\\parameters')"
   ]
  },
  {
   "cell_type": "code",
   "execution_count": 6,
   "id": "df8ad1e0",
   "metadata": {
    "ExecuteTime": {
     "end_time": "2023-11-21T01:50:06.031518Z",
     "start_time": "2023-11-21T01:50:06.022518Z"
    }
   },
   "outputs": [
    {
     "data": {
      "text/plain": [
       "'E:\\\\ArcticDEM\\\\session3\\\\clip_out\\\\77\\\\parameters'"
      ]
     },
     "execution_count": 6,
     "metadata": {},
     "output_type": "execute_result"
    }
   ],
   "source": [
    "poly_folder = os.path.join(output_folder, f'{poly}')\n",
    "os.path.join(poly_folder, 'parameters')"
   ]
  },
  {
   "cell_type": "code",
   "execution_count": 10,
   "id": "aab616d0",
   "metadata": {
    "ExecuteTime": {
     "end_time": "2023-11-21T01:56:48.516518Z",
     "start_time": "2023-11-21T01:56:48.510518Z"
    }
   },
   "outputs": [
    {
     "name": "stdout",
     "output_type": "stream",
     "text": [
      "c08_40_21_0.tif\n"
     ]
    }
   ],
   "source": [
    "poly = 0\n",
    "\n",
    "poly_folder = os.path.join(output_folder, f'{poly}')\n",
    "mosaicFile = os.path.join(poly_folder, f'clipM_{poly}.tif')\n",
    "\n",
    "### Create parameters folder for each polygon\n",
    "#create_folders(poly_folder)\n",
    "\n",
    "# Set input raster\n",
    "if os.path.exists(mosaicFile):\n",
    "    in_raster = mosaicFile   \n",
    "else:\n",
    "    for file in os.listdir(poly_folder):\n",
    "            if file.endswith('.tif'):\n",
    "                in_raster = file\n",
    "                \n",
    "print(in_raster)"
   ]
  },
  {
   "cell_type": "code",
   "execution_count": 13,
   "id": "c999e865",
   "metadata": {
    "ExecuteTime": {
     "end_time": "2023-11-21T02:04:13.536518Z",
     "start_time": "2023-11-21T02:04:13.516518Z"
    }
   },
   "outputs": [
    {
     "ename": "AttributeError",
     "evalue": "'list' object has no attribute 'endswith'",
     "output_type": "error",
     "traceback": [
      "\u001b[1;31m---------------------------------------------------------------------------\u001b[0m",
      "\u001b[1;31mAttributeError\u001b[0m                            Traceback (most recent call last)",
      "\u001b[1;32m<ipython-input-13-6d3afd6acf76>\u001b[0m in \u001b[0;36m<module>\u001b[1;34m\u001b[0m\n\u001b[0;32m      1\u001b[0m \u001b[0mdirlist\u001b[0m \u001b[1;33m=\u001b[0m \u001b[0mos\u001b[0m\u001b[1;33m.\u001b[0m\u001b[0mlistdir\u001b[0m\u001b[1;33m(\u001b[0m\u001b[0mpoly_folder\u001b[0m\u001b[1;33m)\u001b[0m\u001b[1;33m\u001b[0m\u001b[1;33m\u001b[0m\u001b[0m\n\u001b[1;32m----> 2\u001b[1;33m \u001b[0mdirlist\u001b[0m\u001b[1;33m.\u001b[0m\u001b[0mendswith\u001b[0m\u001b[1;33m(\u001b[0m\u001b[1;34m'.tif'\u001b[0m\u001b[1;33m)\u001b[0m\u001b[1;33m\u001b[0m\u001b[1;33m\u001b[0m\u001b[0m\n\u001b[0m",
      "\u001b[1;31mAttributeError\u001b[0m: 'list' object has no attribute 'endswith'"
     ]
    }
   ],
   "source": [
    "dirlist = os.listdir(poly_folder)\n"
   ]
  },
  {
   "cell_type": "code",
   "execution_count": 16,
   "id": "59f73525",
   "metadata": {
    "ExecuteTime": {
     "end_time": "2023-11-21T02:05:33.698518Z",
     "start_time": "2023-11-21T02:05:33.688518Z"
    }
   },
   "outputs": [
    {
     "data": {
      "text/plain": [
       "['c08_40_21_0.tfw',\n",
       " 'c08_40_21_0.tif',\n",
       " 'c08_40_21_0.tif.aux.xml',\n",
       " 'c08_40_21_0.tif.ovr',\n",
       " 'c08_40_21_0.tif.xml']"
      ]
     },
     "execution_count": 16,
     "metadata": {},
     "output_type": "execute_result"
    }
   ],
   "source": [
    "dirlist"
   ]
  },
  {
   "cell_type": "code",
   "execution_count": 15,
   "id": "890ecc3d",
   "metadata": {
    "ExecuteTime": {
     "end_time": "2023-11-21T02:05:15.936518Z",
     "start_time": "2023-11-21T02:05:15.926518Z"
    }
   },
   "outputs": [
    {
     "data": {
      "text/plain": [
       "'c08_40_21_0.tfw'"
      ]
     },
     "execution_count": 15,
     "metadata": {},
     "output_type": "execute_result"
    }
   ],
   "source": [
    "dirlist[dirlist[-1]=='f']"
   ]
  },
  {
   "cell_type": "code",
   "execution_count": 29,
   "id": "7e8df523",
   "metadata": {
    "ExecuteTime": {
     "end_time": "2023-11-21T02:12:33.021518Z",
     "start_time": "2023-11-21T02:12:33.001518Z"
    }
   },
   "outputs": [
    {
     "data": {
      "text/plain": [
       "'c08_40_21_0.tif'"
      ]
     },
     "execution_count": 29,
     "metadata": {},
     "output_type": "execute_result"
    }
   ],
   "source": []
  },
  {
   "cell_type": "code",
   "execution_count": null,
   "id": "629da16a",
   "metadata": {},
   "outputs": [],
   "source": []
  }
 ],
 "metadata": {
  "kernelspec": {
   "display_name": "Python 3",
   "language": "python",
   "name": "python3"
  },
  "language_info": {
   "codemirror_mode": {
    "name": "ipython",
    "version": 3
   },
   "file_extension": ".py",
   "mimetype": "text/x-python",
   "name": "python",
   "nbconvert_exporter": "python",
   "pygments_lexer": "ipython3",
   "version": "3.8.8"
  },
  "latex_envs": {
   "LaTeX_envs_menu_present": true,
   "autoclose": false,
   "autocomplete": true,
   "bibliofile": "biblio.bib",
   "cite_by": "apalike",
   "current_citInitial": 1,
   "eqLabelWithNumbers": true,
   "eqNumInitial": 1,
   "hotkeys": {
    "equation": "Ctrl-E",
    "itemize": "Ctrl-I"
   },
   "labels_anchors": false,
   "latex_user_defs": false,
   "report_style_numbering": false,
   "user_envs_cfg": false
  },
  "toc": {
   "base_numbering": 1,
   "nav_menu": {},
   "number_sections": true,
   "sideBar": true,
   "skip_h1_title": true,
   "title_cell": "Table of Contents",
   "title_sidebar": "Contents",
   "toc_cell": false,
   "toc_position": {},
   "toc_section_display": true,
   "toc_window_display": false
  },
  "varInspector": {
   "cols": {
    "lenName": 16,
    "lenType": 16,
    "lenVar": 40
   },
   "kernels_config": {
    "python": {
     "delete_cmd_postfix": "",
     "delete_cmd_prefix": "del ",
     "library": "var_list.py",
     "varRefreshCmd": "print(var_dic_list())"
    },
    "r": {
     "delete_cmd_postfix": ") ",
     "delete_cmd_prefix": "rm(",
     "library": "var_list.r",
     "varRefreshCmd": "cat(var_dic_list()) "
    }
   },
   "types_to_exclude": [
    "module",
    "function",
    "builtin_function_or_method",
    "instance",
    "_Feature"
   ],
   "window_display": false
  }
 },
 "nbformat": 4,
 "nbformat_minor": 5
}

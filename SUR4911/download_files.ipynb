{
 "cells": [
  {
   "cell_type": "code",
   "execution_count": null,
   "id": "2c3f9890",
   "metadata": {},
   "outputs": [],
   "source": [
    "# https://www.geeksforgeeks.org/how-to-download-and-upload-files-in-ftp-server-using-python/#:~:text=complete%20program%20for%20downloading%20the%20file\n",
    "# Import Module\n",
    "import ftplib\n",
    " \n",
    "# Fill Required Information\n",
    "HOSTNAME = \"ftp.dlptest.com\"\n",
    "USERNAME = \"dlpuser@dlptest.com\"\n",
    "PASSWORD = \"eUj8GeW55SvYaswqUyDSm5v6N\"\n",
    " \n",
    "# Connect FTP Server\n",
    "ftp_server = ftplib.FTP(HOSTNAME, USERNAME, PASSWORD)\n",
    " \n",
    "# force UTF-8 encoding\n",
    "ftp_server.encoding = \"utf-8\"\n",
    " \n",
    "# Enter File Name with Extension\n",
    "filename = \"gfg.txt\"\n",
    " \n",
    "# Write file in binary mode\n",
    "with open(filename, \"wb\") as file:\n",
    "    # Command for Downloading the file \"RETR filename\"\n",
    "    ftp_server.retrbinary(f\"RETR {filename}\", file.write)\n",
    " \n",
    "# Get list of files\n",
    "ftp_server.dir()\n",
    " \n",
    "# Display the content of downloaded file\n",
    "file= open(filename, \"r\")\n",
    "print('File Content:', file.read())\n",
    " \n",
    "# Close the Connection\n",
    "ftp_server.quit()"
   ]
  },
  {
   "cell_type": "code",
   "execution_count": 30,
   "id": "f35e0e6d",
   "metadata": {
    "ExecuteTime": {
     "end_time": "2023-11-18T03:00:53.421807Z",
     "start_time": "2023-11-18T02:47:32.670207Z"
    },
    "scrolled": true
   },
   "outputs": [
    {
     "name": "stdout",
     "output_type": "stream",
     "text": [
      "Downloading file, 2023-11-17 21:47:33.447207\n",
      "Download finished after 12.622438834483335 minutes, 2023-11-17 22:00:10.790807\n",
      "Extracting file, 2023-11-17 22:00:10.791807\n",
      "Extraction finished after 0.7104181086000002 minutes, 2023-11-17 22:00:53.418807\n",
      "Process completed after 13.332856943083335 minutes\n"
     ]
    }
   ],
   "source": [
    "# Import Module\n",
    "import ftplib\n",
    "import os\n",
    "import tarfile\n",
    "from time import perf_counter\n",
    "from datetime import datetime \n",
    " \n",
    "# Fill Required Information\n",
    "HOSTNAME = \"ftp.data.pgc.umn.edu\"\n",
    "USERNAME = \"anonymous\"\n",
    "PASSWORD = \"password\"\n",
    "\n",
    " \n",
    "# Connect FTP Server\n",
    "ftp_server = ftplib.FTP(HOSTNAME, USERNAME, PASSWORD)\n",
    " \n",
    "# force UTF-8 encoding\n",
    "ftp_server.encoding = \"utf-8\"\n",
    "\n",
    "# Get list of files\n",
    "#ftp_server.dir(\"/elev/dem/setsm/ArcticDEM/mosaic/latest/2m/12_38\")\n",
    "ftp_server.cwd(\"/elev/dem/setsm/ArcticDEM/mosaic/latest/2m/12_38\")\n",
    "#ftp_server.dir()\n",
    "\n",
    "\n",
    "# Paths\n",
    "output_folder = r\"E:\\ArcticDEM\\session3\\clip_out\"  # Path to store clipped and mosaic rasters\n",
    "temporary_folder = os.path.join(output_folder, \"temp\")  # Temporary location for downloaded and extracted files\n",
    "filename = \"12_38_1_1_2m_v4.1.tar.gz\"   # File Name with Extension\n",
    "local_filename = os.path.join(temporary_folder, filename)\n",
    "\n",
    "\n",
    "# download the file\n",
    "start = perf_counter()\n",
    "print(f\"Downloading file, {datetime.now()}\")\n",
    "\n",
    "lf = open(local_filename, \"wb\")\n",
    "ftp_server.retrbinary(\"RETR \" + filename, lf.write)\n",
    "lf.close()\n",
    "\n",
    "# Close the Connection\n",
    "#ftp_server.quit()\n",
    "\n",
    "end = perf_counter()\n",
    "execution_time1 = (end - start)/60\n",
    "print(f'Download finished after {execution_time1} minutes, {datetime.now()}')\n",
    "\n",
    "# Extract file\n",
    "print(f\"Extracting file, {datetime.now()}\")\n",
    "start = perf_counter()\n",
    "\n",
    "with tarfile.open(local_filename, \"r:gz\") as tar:\n",
    "        tar.extract(\"12_38_1_1_2m_v4.1_dem.tif\", temporary_folder)\n",
    "\n",
    "end = perf_counter()\n",
    "execution_time2 = (end - start)/60\n",
    "print(f'Extraction finished after {execution_time2} minutes, {datetime.now()}')\n",
    "\n",
    "print(f'Process completed after {execution_time1 + execution_time2} minutes')"
   ]
  },
  {
   "cell_type": "code",
   "execution_count": 32,
   "id": "021bb8e1",
   "metadata": {
    "ExecuteTime": {
     "end_time": "2023-11-18T04:29:16.818007Z",
     "start_time": "2023-11-18T04:29:16.808007Z"
    }
   },
   "outputs": [
    {
     "data": {
      "text/plain": [
       "'12_38'"
      ]
     },
     "execution_count": 32,
     "metadata": {},
     "output_type": "execute_result"
    }
   ],
   "source": [
    "key = '12_38_1_1'\n",
    "key[0:5]"
   ]
  },
  {
   "cell_type": "code",
   "execution_count": null,
   "id": "46300bd4",
   "metadata": {},
   "outputs": [],
   "source": []
  }
 ],
 "metadata": {
  "kernelspec": {
   "display_name": "Python 3",
   "language": "python",
   "name": "python3"
  },
  "language_info": {
   "codemirror_mode": {
    "name": "ipython",
    "version": 3
   },
   "file_extension": ".py",
   "mimetype": "text/x-python",
   "name": "python",
   "nbconvert_exporter": "python",
   "pygments_lexer": "ipython3",
   "version": "3.8.8"
  },
  "latex_envs": {
   "LaTeX_envs_menu_present": true,
   "autoclose": false,
   "autocomplete": true,
   "bibliofile": "biblio.bib",
   "cite_by": "apalike",
   "current_citInitial": 1,
   "eqLabelWithNumbers": true,
   "eqNumInitial": 1,
   "hotkeys": {
    "equation": "Ctrl-E",
    "itemize": "Ctrl-I"
   },
   "labels_anchors": false,
   "latex_user_defs": false,
   "report_style_numbering": false,
   "user_envs_cfg": false
  },
  "toc": {
   "base_numbering": 1,
   "nav_menu": {},
   "number_sections": true,
   "sideBar": true,
   "skip_h1_title": true,
   "title_cell": "Table of Contents",
   "title_sidebar": "Contents",
   "toc_cell": false,
   "toc_position": {},
   "toc_section_display": true,
   "toc_window_display": false
  },
  "varInspector": {
   "cols": {
    "lenName": 16,
    "lenType": 16,
    "lenVar": 40
   },
   "kernels_config": {
    "python": {
     "delete_cmd_postfix": "",
     "delete_cmd_prefix": "del ",
     "library": "var_list.py",
     "varRefreshCmd": "print(var_dic_list())"
    },
    "r": {
     "delete_cmd_postfix": ") ",
     "delete_cmd_prefix": "rm(",
     "library": "var_list.r",
     "varRefreshCmd": "cat(var_dic_list()) "
    }
   },
   "types_to_exclude": [
    "module",
    "function",
    "builtin_function_or_method",
    "instance",
    "_Feature"
   ],
   "window_display": false
  }
 },
 "nbformat": 4,
 "nbformat_minor": 5
}

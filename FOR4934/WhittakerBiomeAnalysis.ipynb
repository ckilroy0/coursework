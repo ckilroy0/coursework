{
 "cells": [
  {
   "cell_type": "markdown",
   "id": "e76634ee",
   "metadata": {},
   "source": [
    "# Whittaker Biome Local Variation Analysis"
   ]
  },
  {
   "cell_type": "markdown",
   "id": "80984efe",
   "metadata": {},
   "source": [
    "## Introduction"
   ]
  },
  {
   "cell_type": "markdown",
   "id": "4e12a80a",
   "metadata": {},
   "source": [
    "A Whittaker Biome Diagram maps average temperatures (degrees C) and annual precipitation (cm) onto biomes/ecosystems. The biomes are tropical rain forest, temperate rainforest, tropical seasonal forest and savanna, temperate deciduous forest, taiga, temperate grassland and desert, subtropical desert, and tundra. The diagram shows average temperature on the x-axis and annual precipitation on the y-axis. Biomes are plotted as areas within the graph. For example, a point with an average temperature of 10 degrees C and an annual precipitation of 150 cm is classified as a temperate deciduous forest."
   ]
  },
  {
   "cell_type": "markdown",
   "id": "36376498",
   "metadata": {},
   "source": [
    "As climates change, a particular location may experience a shift within one biome or between multiple biomes. How can we visualize this change?"
   ]
  },
  {
   "cell_type": "markdown",
   "id": "44db490e",
   "metadata": {},
   "source": [
    "The first thing we need is weather data. We will use the Meteostat library. Second, we will need to plot the weather data. To plot the data, we will use a bivariate visualization from the seaborn library."
   ]
  },
  {
   "cell_type": "markdown",
   "id": "c84e322c",
   "metadata": {},
   "source": [
    "## Collect weather data"
   ]
  },
  {
   "cell_type": "code",
   "execution_count": 127,
   "id": "5c79ed99",
   "metadata": {
    "ExecuteTime": {
     "end_time": "2023-08-26T02:08:54.050804Z",
     "start_time": "2023-08-26T02:08:54.045804Z"
    }
   },
   "outputs": [],
   "source": [
    "# Import Meteostat library and dependencies\n",
    "from meteostat import Point, Hourly, Daily, Monthly, Stations\n",
    "from datetime import datetime, date, time\n",
    "import matplotlib.pyplot as plt\n",
    "import pandas as pd\n",
    "import seaborn as sns"
   ]
  },
  {
   "cell_type": "code",
   "execution_count": 128,
   "id": "95ca2f33",
   "metadata": {
    "ExecuteTime": {
     "end_time": "2023-08-26T02:08:54.067804Z",
     "start_time": "2023-08-26T02:08:54.053804Z"
    }
   },
   "outputs": [],
   "source": [
    "# Calculate start and end dates\n",
    "start = date(2022-30, 6, 1)\n",
    "end = date(2022, 6, 1)\n",
    "\n",
    "t1 = time(0, 0)\n",
    "t2 = time(23, 59)\n",
    "\n",
    "start = datetime.combine(start, t1)\n",
    "end = datetime.combine(end, t2)"
   ]
  },
  {
   "cell_type": "code",
   "execution_count": 129,
   "id": "49146106",
   "metadata": {
    "ExecuteTime": {
     "end_time": "2023-08-26T02:08:54.076804Z",
     "start_time": "2023-08-26T02:08:54.070804Z"
    }
   },
   "outputs": [],
   "source": [
    "lat = 27.94\n",
    "lon = -82.46"
   ]
  },
  {
   "cell_type": "code",
   "execution_count": 130,
   "id": "fa8ce05e",
   "metadata": {
    "ExecuteTime": {
     "end_time": "2023-08-26T02:08:54.084804Z",
     "start_time": "2023-08-26T02:08:54.079804Z"
    }
   },
   "outputs": [],
   "source": [
    "#stations = stations.nearby(lat, lon)\n",
    "tampa = Point(lat, lon)"
   ]
  },
  {
   "cell_type": "code",
   "execution_count": 131,
   "id": "a54d33d3",
   "metadata": {
    "ExecuteTime": {
     "end_time": "2023-08-26T02:08:54.204804Z",
     "start_time": "2023-08-26T02:08:54.087804Z"
    }
   },
   "outputs": [],
   "source": [
    "#monthlyData = Monthly(station, start, end).fetch()\n",
    "monthlyData = Monthly(tampa, start, end).fetch()"
   ]
  },
  {
   "cell_type": "code",
   "execution_count": 132,
   "id": "b49183a9",
   "metadata": {
    "ExecuteTime": {
     "end_time": "2023-08-26T02:08:54.232804Z",
     "start_time": "2023-08-26T02:08:54.207804Z"
    }
   },
   "outputs": [
    {
     "data": {
      "text/html": [
       "<div>\n",
       "<style scoped>\n",
       "    .dataframe tbody tr th:only-of-type {\n",
       "        vertical-align: middle;\n",
       "    }\n",
       "\n",
       "    .dataframe tbody tr th {\n",
       "        vertical-align: top;\n",
       "    }\n",
       "\n",
       "    .dataframe thead th {\n",
       "        text-align: right;\n",
       "    }\n",
       "</style>\n",
       "<table border=\"1\" class=\"dataframe\">\n",
       "  <thead>\n",
       "    <tr style=\"text-align: right;\">\n",
       "      <th></th>\n",
       "      <th>tavg</th>\n",
       "      <th>tmin</th>\n",
       "      <th>tmax</th>\n",
       "      <th>prcp</th>\n",
       "      <th>wspd</th>\n",
       "      <th>pres</th>\n",
       "      <th>tsun</th>\n",
       "    </tr>\n",
       "    <tr>\n",
       "      <th>time</th>\n",
       "      <th></th>\n",
       "      <th></th>\n",
       "      <th></th>\n",
       "      <th></th>\n",
       "      <th></th>\n",
       "      <th></th>\n",
       "      <th></th>\n",
       "    </tr>\n",
       "  </thead>\n",
       "  <tbody>\n",
       "    <tr>\n",
       "      <th>1992-06-01</th>\n",
       "      <td>27.8</td>\n",
       "      <td>23.4</td>\n",
       "      <td>32.1</td>\n",
       "      <td>179.0</td>\n",
       "      <td>11.9</td>\n",
       "      <td>1013.3</td>\n",
       "      <td>16920.0</td>\n",
       "    </tr>\n",
       "    <tr>\n",
       "      <th>1992-07-01</th>\n",
       "      <td>28.8</td>\n",
       "      <td>23.8</td>\n",
       "      <td>33.7</td>\n",
       "      <td>71.0</td>\n",
       "      <td>9.3</td>\n",
       "      <td>1019.3</td>\n",
       "      <td>20700.0</td>\n",
       "    </tr>\n",
       "    <tr>\n",
       "      <th>1992-08-01</th>\n",
       "      <td>28.0</td>\n",
       "      <td>23.4</td>\n",
       "      <td>32.5</td>\n",
       "      <td>209.0</td>\n",
       "      <td>10.2</td>\n",
       "      <td>1018.2</td>\n",
       "      <td>14880.0</td>\n",
       "    </tr>\n",
       "    <tr>\n",
       "      <th>1992-09-01</th>\n",
       "      <td>27.8</td>\n",
       "      <td>22.8</td>\n",
       "      <td>32.7</td>\n",
       "      <td>75.0</td>\n",
       "      <td>10.5</td>\n",
       "      <td>1016.3</td>\n",
       "      <td>14220.0</td>\n",
       "    </tr>\n",
       "    <tr>\n",
       "      <th>1992-10-01</th>\n",
       "      <td>22.5</td>\n",
       "      <td>17.4</td>\n",
       "      <td>27.7</td>\n",
       "      <td>75.0</td>\n",
       "      <td>12.3</td>\n",
       "      <td>1016.8</td>\n",
       "      <td>13800.0</td>\n",
       "    </tr>\n",
       "    <tr>\n",
       "      <th>...</th>\n",
       "      <td>...</td>\n",
       "      <td>...</td>\n",
       "      <td>...</td>\n",
       "      <td>...</td>\n",
       "      <td>...</td>\n",
       "      <td>...</td>\n",
       "      <td>...</td>\n",
       "    </tr>\n",
       "    <tr>\n",
       "      <th>2022-02-01</th>\n",
       "      <td>19.4</td>\n",
       "      <td>14.0</td>\n",
       "      <td>25.6</td>\n",
       "      <td>23.0</td>\n",
       "      <td>9.4</td>\n",
       "      <td>1021.9</td>\n",
       "      <td>NaN</td>\n",
       "    </tr>\n",
       "    <tr>\n",
       "      <th>2022-03-01</th>\n",
       "      <td>22.8</td>\n",
       "      <td>18.0</td>\n",
       "      <td>28.6</td>\n",
       "      <td>73.9</td>\n",
       "      <td>13.3</td>\n",
       "      <td>NaN</td>\n",
       "      <td>NaN</td>\n",
       "    </tr>\n",
       "    <tr>\n",
       "      <th>2022-04-01</th>\n",
       "      <td>23.8</td>\n",
       "      <td>19.3</td>\n",
       "      <td>29.3</td>\n",
       "      <td>198.4</td>\n",
       "      <td>12.3</td>\n",
       "      <td>1017.9</td>\n",
       "      <td>NaN</td>\n",
       "    </tr>\n",
       "    <tr>\n",
       "      <th>2022-05-01</th>\n",
       "      <td>26.0</td>\n",
       "      <td>21.9</td>\n",
       "      <td>31.4</td>\n",
       "      <td>164.8</td>\n",
       "      <td>10.6</td>\n",
       "      <td>1016.4</td>\n",
       "      <td>NaN</td>\n",
       "    </tr>\n",
       "    <tr>\n",
       "      <th>2022-06-01</th>\n",
       "      <td>27.5</td>\n",
       "      <td>24.1</td>\n",
       "      <td>32.3</td>\n",
       "      <td>197.2</td>\n",
       "      <td>9.3</td>\n",
       "      <td>1015.4</td>\n",
       "      <td>NaN</td>\n",
       "    </tr>\n",
       "  </tbody>\n",
       "</table>\n",
       "<p>361 rows × 7 columns</p>\n",
       "</div>"
      ],
      "text/plain": [
       "            tavg  tmin  tmax   prcp  wspd    pres     tsun\n",
       "time                                                      \n",
       "1992-06-01  27.8  23.4  32.1  179.0  11.9  1013.3  16920.0\n",
       "1992-07-01  28.8  23.8  33.7   71.0   9.3  1019.3  20700.0\n",
       "1992-08-01  28.0  23.4  32.5  209.0  10.2  1018.2  14880.0\n",
       "1992-09-01  27.8  22.8  32.7   75.0  10.5  1016.3  14220.0\n",
       "1992-10-01  22.5  17.4  27.7   75.0  12.3  1016.8  13800.0\n",
       "...          ...   ...   ...    ...   ...     ...      ...\n",
       "2022-02-01  19.4  14.0  25.6   23.0   9.4  1021.9      NaN\n",
       "2022-03-01  22.8  18.0  28.6   73.9  13.3     NaN      NaN\n",
       "2022-04-01  23.8  19.3  29.3  198.4  12.3  1017.9      NaN\n",
       "2022-05-01  26.0  21.9  31.4  164.8  10.6  1016.4      NaN\n",
       "2022-06-01  27.5  24.1  32.3  197.2   9.3  1015.4      NaN\n",
       "\n",
       "[361 rows x 7 columns]"
      ]
     },
     "execution_count": 132,
     "metadata": {},
     "output_type": "execute_result"
    }
   ],
   "source": [
    "monthlyData"
   ]
  },
  {
   "cell_type": "code",
   "execution_count": 133,
   "id": "2c7f3104",
   "metadata": {
    "ExecuteTime": {
     "end_time": "2023-08-26T02:08:54.706804Z",
     "start_time": "2023-08-26T02:08:54.238804Z"
    }
   },
   "outputs": [
    {
     "data": {
      "image/png": "[encoded data removed]",
      "text/plain": [
       "<Figure size 432x288 with 1 Axes>"
      ]
     },
     "metadata": {
      "needs_background": "light"
     },
     "output_type": "display_data"
    }
   ],
   "source": [
    "# Plot the data\n",
    "plt.plot(monthlyData.index, monthlyData['prcp'])\n",
    "plt.show()"
   ]
  },
  {
   "cell_type": "code",
   "execution_count": 134,
   "id": "01e54c83",
   "metadata": {
    "ExecuteTime": {
     "end_time": "2023-08-26T02:08:54.717804Z",
     "start_time": "2023-08-26T02:08:54.709804Z"
    }
   },
   "outputs": [],
   "source": [
    "# Get month from the time index\n",
    "#dailyData['day'] = dailyData.index.day\n",
    "#dailyData['month'] = dailyData.index.month\n",
    "\n",
    "# Get year from the time index\n",
    "monthlyData['year'] = monthlyData.index.year"
   ]
  },
  {
   "cell_type": "code",
   "execution_count": 135,
   "id": "565a5304",
   "metadata": {
    "ExecuteTime": {
     "end_time": "2023-08-26T02:08:54.752804Z",
     "start_time": "2023-08-26T02:08:54.722804Z"
    },
    "scrolled": true
   },
   "outputs": [
    {
     "data": {
      "text/html": [
       "<div>\n",
       "<style scoped>\n",
       "    .dataframe tbody tr th:only-of-type {\n",
       "        vertical-align: middle;\n",
       "    }\n",
       "\n",
       "    .dataframe tbody tr th {\n",
       "        vertical-align: top;\n",
       "    }\n",
       "\n",
       "    .dataframe thead th {\n",
       "        text-align: right;\n",
       "    }\n",
       "</style>\n",
       "<table border=\"1\" class=\"dataframe\">\n",
       "  <thead>\n",
       "    <tr style=\"text-align: right;\">\n",
       "      <th></th>\n",
       "      <th>year</th>\n",
       "      <th>annual_prcp</th>\n",
       "      <th>average_temperature</th>\n",
       "    </tr>\n",
       "  </thead>\n",
       "  <tbody>\n",
       "    <tr>\n",
       "      <th>0</th>\n",
       "      <td>1992</td>\n",
       "      <td>69.60</td>\n",
       "      <td>24.84</td>\n",
       "    </tr>\n",
       "    <tr>\n",
       "      <th>1</th>\n",
       "      <td>1993</td>\n",
       "      <td>95.40</td>\n",
       "      <td>22.52</td>\n",
       "    </tr>\n",
       "    <tr>\n",
       "      <th>2</th>\n",
       "      <td>1994</td>\n",
       "      <td>120.10</td>\n",
       "      <td>23.39</td>\n",
       "    </tr>\n",
       "    <tr>\n",
       "      <th>3</th>\n",
       "      <td>1995</td>\n",
       "      <td>137.40</td>\n",
       "      <td>22.79</td>\n",
       "    </tr>\n",
       "    <tr>\n",
       "      <th>4</th>\n",
       "      <td>1996</td>\n",
       "      <td>114.60</td>\n",
       "      <td>22.36</td>\n",
       "    </tr>\n",
       "    <tr>\n",
       "      <th>5</th>\n",
       "      <td>1997</td>\n",
       "      <td>171.80</td>\n",
       "      <td>23.18</td>\n",
       "    </tr>\n",
       "    <tr>\n",
       "      <th>6</th>\n",
       "      <td>1998</td>\n",
       "      <td>140.10</td>\n",
       "      <td>23.55</td>\n",
       "    </tr>\n",
       "    <tr>\n",
       "      <th>7</th>\n",
       "      <td>1999</td>\n",
       "      <td>87.40</td>\n",
       "      <td>22.99</td>\n",
       "    </tr>\n",
       "    <tr>\n",
       "      <th>8</th>\n",
       "      <td>2000</td>\n",
       "      <td>76.15</td>\n",
       "      <td>22.86</td>\n",
       "    </tr>\n",
       "    <tr>\n",
       "      <th>9</th>\n",
       "      <td>2001</td>\n",
       "      <td>101.35</td>\n",
       "      <td>22.98</td>\n",
       "    </tr>\n",
       "    <tr>\n",
       "      <th>10</th>\n",
       "      <td>2002</td>\n",
       "      <td>154.80</td>\n",
       "      <td>23.14</td>\n",
       "    </tr>\n",
       "    <tr>\n",
       "      <th>11</th>\n",
       "      <td>2003</td>\n",
       "      <td>132.50</td>\n",
       "      <td>22.77</td>\n",
       "    </tr>\n",
       "    <tr>\n",
       "      <th>12</th>\n",
       "      <td>2004</td>\n",
       "      <td>155.70</td>\n",
       "      <td>22.81</td>\n",
       "    </tr>\n",
       "    <tr>\n",
       "      <th>13</th>\n",
       "      <td>2005</td>\n",
       "      <td>99.10</td>\n",
       "      <td>22.72</td>\n",
       "    </tr>\n",
       "    <tr>\n",
       "      <th>14</th>\n",
       "      <td>2006</td>\n",
       "      <td>146.50</td>\n",
       "      <td>23.16</td>\n",
       "    </tr>\n",
       "    <tr>\n",
       "      <th>15</th>\n",
       "      <td>2007</td>\n",
       "      <td>106.80</td>\n",
       "      <td>23.56</td>\n",
       "    </tr>\n",
       "    <tr>\n",
       "      <th>16</th>\n",
       "      <td>2008</td>\n",
       "      <td>111.30</td>\n",
       "      <td>23.08</td>\n",
       "    </tr>\n",
       "    <tr>\n",
       "      <th>17</th>\n",
       "      <td>2009</td>\n",
       "      <td>116.70</td>\n",
       "      <td>23.27</td>\n",
       "    </tr>\n",
       "    <tr>\n",
       "      <th>18</th>\n",
       "      <td>2010</td>\n",
       "      <td>102.50</td>\n",
       "      <td>21.87</td>\n",
       "    </tr>\n",
       "    <tr>\n",
       "      <th>19</th>\n",
       "      <td>2011</td>\n",
       "      <td>135.50</td>\n",
       "      <td>23.64</td>\n",
       "    </tr>\n",
       "    <tr>\n",
       "      <th>20</th>\n",
       "      <td>2012</td>\n",
       "      <td>142.40</td>\n",
       "      <td>23.75</td>\n",
       "    </tr>\n",
       "    <tr>\n",
       "      <th>21</th>\n",
       "      <td>2013</td>\n",
       "      <td>133.50</td>\n",
       "      <td>23.56</td>\n",
       "    </tr>\n",
       "    <tr>\n",
       "      <th>22</th>\n",
       "      <td>2014</td>\n",
       "      <td>147.20</td>\n",
       "      <td>22.69</td>\n",
       "    </tr>\n",
       "    <tr>\n",
       "      <th>23</th>\n",
       "      <td>2015</td>\n",
       "      <td>161.38</td>\n",
       "      <td>24.12</td>\n",
       "    </tr>\n",
       "    <tr>\n",
       "      <th>24</th>\n",
       "      <td>2016</td>\n",
       "      <td>133.60</td>\n",
       "      <td>23.55</td>\n",
       "    </tr>\n",
       "    <tr>\n",
       "      <th>25</th>\n",
       "      <td>2017</td>\n",
       "      <td>112.63</td>\n",
       "      <td>24.18</td>\n",
       "    </tr>\n",
       "    <tr>\n",
       "      <th>26</th>\n",
       "      <td>2018</td>\n",
       "      <td>156.18</td>\n",
       "      <td>23.76</td>\n",
       "    </tr>\n",
       "    <tr>\n",
       "      <th>27</th>\n",
       "      <td>2019</td>\n",
       "      <td>154.30</td>\n",
       "      <td>24.39</td>\n",
       "    </tr>\n",
       "    <tr>\n",
       "      <th>28</th>\n",
       "      <td>2020</td>\n",
       "      <td>119.10</td>\n",
       "      <td>24.48</td>\n",
       "    </tr>\n",
       "    <tr>\n",
       "      <th>29</th>\n",
       "      <td>2021</td>\n",
       "      <td>183.52</td>\n",
       "      <td>23.73</td>\n",
       "    </tr>\n",
       "    <tr>\n",
       "      <th>30</th>\n",
       "      <td>2022</td>\n",
       "      <td>71.86</td>\n",
       "      <td>22.68</td>\n",
       "    </tr>\n",
       "  </tbody>\n",
       "</table>\n",
       "</div>"
      ],
      "text/plain": [
       "    year  annual_prcp  average_temperature\n",
       "0   1992        69.60                24.84\n",
       "1   1993        95.40                22.52\n",
       "2   1994       120.10                23.39\n",
       "3   1995       137.40                22.79\n",
       "4   1996       114.60                22.36\n",
       "5   1997       171.80                23.18\n",
       "6   1998       140.10                23.55\n",
       "7   1999        87.40                22.99\n",
       "8   2000        76.15                22.86\n",
       "9   2001       101.35                22.98\n",
       "10  2002       154.80                23.14\n",
       "11  2003       132.50                22.77\n",
       "12  2004       155.70                22.81\n",
       "13  2005        99.10                22.72\n",
       "14  2006       146.50                23.16\n",
       "15  2007       106.80                23.56\n",
       "16  2008       111.30                23.08\n",
       "17  2009       116.70                23.27\n",
       "18  2010       102.50                21.87\n",
       "19  2011       135.50                23.64\n",
       "20  2012       142.40                23.75\n",
       "21  2013       133.50                23.56\n",
       "22  2014       147.20                22.69\n",
       "23  2015       161.38                24.12\n",
       "24  2016       133.60                23.55\n",
       "25  2017       112.63                24.18\n",
       "26  2018       156.18                23.76\n",
       "27  2019       154.30                24.39\n",
       "28  2020       119.10                24.48\n",
       "29  2021       183.52                23.73\n",
       "30  2022        71.86                22.68"
      ]
     },
     "execution_count": 135,
     "metadata": {},
     "output_type": "execute_result"
    }
   ],
   "source": [
    "# Collect annual averages\n",
    "grouped = monthlyData.groupby(['year']).agg({'prcp': ['sum'], 'tavg': ['mean']}).reset_index()\n",
    "grouped.columns = ['year','annual_prcp', 'average_temperature']\n",
    "\n",
    "# Round temperatures to 2 digits\n",
    "grouped['average_temperature'] = round(grouped['average_temperature'],2)\n",
    "\n",
    "# Convert precipitation from mm to cm\n",
    "grouped['annual_prcp'] = grouped['annual_prcp']*0.1\n",
    "\n",
    "grouped"
   ]
  },
  {
   "cell_type": "markdown",
   "id": "d26a06ab",
   "metadata": {},
   "source": [
    "## Plot weather data"
   ]
  },
  {
   "cell_type": "code",
   "execution_count": 136,
   "id": "835c2bbe",
   "metadata": {
    "ExecuteTime": {
     "end_time": "2023-08-26T02:08:55.593804Z",
     "start_time": "2023-08-26T02:08:54.756804Z"
    }
   },
   "outputs": [
    {
     "data": {
      "image/png": "[encoded data removed]",
      "text/plain": [
       "<Figure size 432x288 with 1 Axes>"
      ]
     },
     "metadata": {
      "needs_background": "light"
     },
     "output_type": "display_data"
    }
   ],
   "source": [
    "fig, axes = plt.subplots()\n",
    "sns.kdeplot( x=grouped[\"average_temperature\"], y=grouped[\"annual_prcp\"],  ax=axes)\n",
    "sns.scatterplot(x=grouped[\"average_temperature\"],y=grouped[\"annual_prcp\"], ax = axes, hue=grouped[\"year\"])\n",
    "#sns.lineplot(grouped,x=grouped[\"average_temperature\"],y=grouped[\"annual_prcp\"], sort=False, color='black', lw=1)\n",
    "sns.move_legend(axes, \"upper left\", bbox_to_anchor=(1, 1))\n",
    "axes.invert_xaxis()"
   ]
  },
  {
   "cell_type": "markdown",
   "id": "5b7c4b92",
   "metadata": {},
   "source": [
    "The weather data has been plotted and can now be compared to the Whittaker Biome Diagram."
   ]
  },
  {
   "cell_type": "code",
   "execution_count": 137,
   "id": "c4f01a2e",
   "metadata": {
    "ExecuteTime": {
     "end_time": "2023-08-26T02:08:55.602804Z",
     "start_time": "2023-08-26T02:08:55.595804Z"
    }
   },
   "outputs": [
    {
     "data": {
      "text/html": [
       "<img src=\"whittakerbiomediagram.png\" width=\"600\" height=\"600\"/>"
      ],
      "text/plain": [
       "<IPython.core.display.Image object>"
      ]
     },
     "execution_count": 137,
     "metadata": {},
     "output_type": "execute_result"
    }
   ],
   "source": [
    "# import image module\n",
    "from IPython.display import Image\n",
    "  \n",
    "# get the image\n",
    "Image(url=\"whittakerbiomediagram.png\", width=600, height=600)"
   ]
  },
  {
   "cell_type": "code",
   "execution_count": null,
   "id": "173fd911",
   "metadata": {},
   "outputs": [],
   "source": []
  }
 ],
 "metadata": {
  "kernelspec": {
   "display_name": "Python 3",
   "language": "python",
   "name": "python3"
  },
  "language_info": {
   "codemirror_mode": {
    "name": "ipython",
    "version": 3
   },
   "file_extension": ".py",
   "mimetype": "text/x-python",
   "name": "python",
   "nbconvert_exporter": "python",
   "pygments_lexer": "ipython3",
   "version": "3.8.8"
  },
  "latex_envs": {
   "LaTeX_envs_menu_present": true,
   "autoclose": false,
   "autocomplete": true,
   "bibliofile": "biblio.bib",
   "cite_by": "apalike",
   "current_citInitial": 1,
   "eqLabelWithNumbers": true,
   "eqNumInitial": 1,
   "hotkeys": {
    "equation": "Ctrl-E",
    "itemize": "Ctrl-I"
   },
   "labels_anchors": false,
   "latex_user_defs": false,
   "report_style_numbering": false,
   "user_envs_cfg": false
  },
  "toc": {
   "base_numbering": 1,
   "nav_menu": {},
   "number_sections": true,
   "sideBar": true,
   "skip_h1_title": true,
   "title_cell": "Table of Contents",
   "title_sidebar": "Contents",
   "toc_cell": false,
   "toc_position": {},
   "toc_section_display": true,
   "toc_window_display": false
  },
  "varInspector": {
   "cols": {
    "lenName": 16,
    "lenType": 16,
    "lenVar": 40
   },
   "kernels_config": {
    "python": {
     "delete_cmd_postfix": "",
     "delete_cmd_prefix": "del ",
     "library": "var_list.py",
     "varRefreshCmd": "print(var_dic_list())"
    },
    "r": {
     "delete_cmd_postfix": ") ",
     "delete_cmd_prefix": "rm(",
     "library": "var_list.r",
     "varRefreshCmd": "cat(var_dic_list()) "
    }
   },
   "types_to_exclude": [
    "module",
    "function",
    "builtin_function_or_method",
    "instance",
    "_Feature"
   ],
   "window_display": false
  }
 },
 "nbformat": 4,
 "nbformat_minor": 5
}
